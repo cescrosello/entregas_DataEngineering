{
 "cells": [
  {
   "cell_type": "code",
   "execution_count": 11,
   "metadata": {},
   "outputs": [
    {
     "name": "stdout",
     "output_type": "stream",
     "text": [
      "Collecting flask\n",
      "  Using cached flask-3.0.3-py3-none-any.whl.metadata (3.2 kB)\n",
      "Collecting Werkzeug>=3.0.0 (from flask)\n",
      "  Using cached werkzeug-3.0.3-py3-none-any.whl.metadata (3.7 kB)\n",
      "Requirement already satisfied: Jinja2>=3.1.2 in /Users/cescrosello/miniconda3/envs/EDA_ENV/lib/python3.10/site-packages (from flask) (3.1.3)\n",
      "Collecting itsdangerous>=2.1.2 (from flask)\n",
      "  Using cached itsdangerous-2.2.0-py3-none-any.whl.metadata (1.9 kB)\n",
      "Requirement already satisfied: click>=8.1.3 in /Users/cescrosello/miniconda3/envs/EDA_ENV/lib/python3.10/site-packages (from flask) (8.1.7)\n",
      "Collecting blinker>=1.6.2 (from flask)\n",
      "  Using cached blinker-1.8.2-py3-none-any.whl.metadata (1.6 kB)\n",
      "Requirement already satisfied: MarkupSafe>=2.0 in /Users/cescrosello/miniconda3/envs/EDA_ENV/lib/python3.10/site-packages (from Jinja2>=3.1.2->flask) (2.1.5)\n",
      "Using cached flask-3.0.3-py3-none-any.whl (101 kB)\n",
      "Using cached blinker-1.8.2-py3-none-any.whl (9.5 kB)\n",
      "Using cached itsdangerous-2.2.0-py3-none-any.whl (16 kB)\n",
      "Using cached werkzeug-3.0.3-py3-none-any.whl (227 kB)\n",
      "Installing collected packages: Werkzeug, itsdangerous, blinker, flask\n",
      "Successfully installed Werkzeug-3.0.3 blinker-1.8.2 flask-3.0.3 itsdangerous-2.2.0\n",
      "Note: you may need to restart the kernel to use updated packages.\n"
     ]
    }
   ],
   "source": [
    "pip install flask"
   ]
  },
  {
   "cell_type": "code",
   "execution_count": 1,
   "metadata": {},
   "outputs": [],
   "source": [
    "import pandas as pd\n",
    "import sqlite3  #es un archivo pero se comporta como un servicio"
   ]
  },
  {
   "cell_type": "code",
   "execution_count": 2,
   "metadata": {},
   "outputs": [],
   "source": [
    "books = [\n",
    "    {'id': 0,\n",
    "     'title': 'A Fire Upon the Deep',\n",
    "     'author': 'Vernor Vinge',\n",
    "     'first_sentence': 'The coldsleep itself was dreamless.',\n",
    "     'published': '1992'},\n",
    "    {'id': 1,\n",
    "     'title': 'The Ones Who Walk Away From Omelas',\n",
    "     'author': 'Ursula K. Le Guin',\n",
    "     'first_sentence': 'With a clamor of bells that set the swallows soaring, the Festival of Summer came to the city Omelas, bright-towered by the sea.',\n",
    "     'published': '1973'},\n",
    "    {'id': 2,\n",
    "     'title': 'Dhalgren',\n",
    "     'author': 'Samuel R. Delany',\n",
    "     'first_sentence': 'to wound the autumnal city.',\n",
    "     'published': '1975'}\n",
    "]"
   ]
  },
  {
   "cell_type": "code",
   "execution_count": 3,
   "metadata": {},
   "outputs": [
    {
     "data": {
      "text/plain": [
       "'/Users/cescrosello/Desktop/Bootcamp - WIP/DataScience-Mar2024/4-Data_Engineering/1-APIs/BBDD'"
      ]
     },
     "execution_count": 3,
     "metadata": {},
     "output_type": "execute_result"
    }
   ],
   "source": [
    "import os\n",
    "os.getcwd()\n",
    "\n",
    "#cuando creemos una conexion a labase de datos, "
   ]
  },
  {
   "cell_type": "code",
   "execution_count": 4,
   "metadata": {},
   "outputs": [
    {
     "data": {
      "text/plain": [
       "['nb_testeo.ipynb',\n",
       " '__pycache__',\n",
       " 'app_sql.py',\n",
       " 'datos_dummy.py',\n",
       " 'app.py',\n",
       " 'app_slq2.ipynb',\n",
       " 'init_db.py']"
      ]
     },
     "execution_count": 4,
     "metadata": {},
     "output_type": "execute_result"
    }
   ],
   "source": [
    "os.listdir() "
   ]
  },
  {
   "cell_type": "code",
   "execution_count": 5,
   "metadata": {},
   "outputs": [
    {
     "name": "stdout",
     "output_type": "stream",
     "text": [
      "Tabla creada (si no existía).\n"
     ]
    }
   ],
   "source": [
    "# Conectamos con la base de datos dummy\n",
    "conn = sqlite3.connect(\"book.db\")\n",
    "\n",
    "# Obtenemos un cursor que utilizaremos para hacer las queries\n",
    "c = conn.cursor()\n",
    "\n",
    "# Crear tabla si no existe\n",
    "c.execute('''\n",
    "          CREATE TABLE IF NOT EXISTS books\n",
    "          (id INTEGER PRIMARY KEY,\n",
    "          title TEXT,\n",
    "          author TEXT,\n",
    "          first_sentence TEXT,\n",
    "          published TEXT)\n",
    "          ''')\n",
    "\n",
    "print(\"Tabla creada (si no existía).\")\n"
   ]
  },
  {
   "cell_type": "code",
   "execution_count": 6,
   "metadata": {},
   "outputs": [
    {
     "name": "stdout",
     "output_type": "stream",
     "text": [
      "Tabla limpiada.\n"
     ]
    }
   ],
   "source": [
    "# Limpiar la tabla antes de insertar los datos\n",
    "c.execute('DELETE FROM books')\n",
    "\n",
    "print(\"Tabla limpiada.\")\n"
   ]
  },
  {
   "cell_type": "code",
   "execution_count": 7,
   "metadata": {},
   "outputs": [
    {
     "name": "stdout",
     "output_type": "stream",
     "text": [
      "Datos insertados con éxito en la base de datos.\n"
     ]
    }
   ],
   "source": [
    "# Insertar datos\n",
    "for book in books:\n",
    "    c.execute('''\n",
    "              INSERT INTO books (id, title, author, first_sentence, published)\n",
    "              VALUES (?, ?, ?, ?, ?)''',\n",
    "              (book['id'], book['title'], book['author'], book['first_sentence'], book['published']))\n",
    "\n",
    "# Confirmar cambios\n",
    "conn.commit()\n",
    "\n",
    "print(\"Datos insertados con éxito en la base de datos.\")\n"
   ]
  },
  {
   "cell_type": "code",
   "execution_count": 8,
   "metadata": {},
   "outputs": [
    {
     "name": "stdout",
     "output_type": "stream",
     "text": [
      "Conexión cerrada.\n"
     ]
    }
   ],
   "source": [
    "# Cerrar conexión\n",
    "conn.close()\n",
    "\n",
    "print(\"Conexión cerrada.\")\n"
   ]
  },
  {
   "cell_type": "code",
   "execution_count": 9,
   "metadata": {},
   "outputs": [
    {
     "name": "stdout",
     "output_type": "stream",
     "text": [
      "(0, 'A Fire Upon the Deep', 'Vernor Vinge', 'The coldsleep itself was dreamless.', '1992')\n",
      "(1, 'The Ones Who Walk Away From Omelas', 'Ursula K. Le Guin', 'With a clamor of bells that set the swallows soaring, the Festival of Summer came to the city Omelas, bright-towered by the sea.', '1973')\n",
      "(2, 'Dhalgren', 'Samuel R. Delany', 'to wound the autumnal city.', '1975')\n"
     ]
    }
   ],
   "source": [
    "#1a llamada, todos los libros\n",
    "\n",
    "# Conectar a la base de datos\n",
    "conn = sqlite3.connect(\"book.db\")\n",
    "c = conn.cursor()\n",
    "\n",
    "# Obtener todos los libros\n",
    "c.execute('SELECT * FROM books')\n",
    "all_books = c.fetchall()\n",
    "\n",
    "# Cerrar conexión\n",
    "conn.close()\n",
    "\n",
    "# Imprimir los datos obtenidos\n",
    "for book in all_books:\n",
    "    print(book)\n"
   ]
  },
  {
   "cell_type": "code",
   "execution_count": 10,
   "metadata": {},
   "outputs": [
    {
     "name": "stdout",
     "output_type": "stream",
     "text": [
      "Libro encontrado: (1, 'The Ones Who Walk Away From Omelas', 'Ursula K. Le Guin', 'With a clamor of bells that set the swallows soaring, the Festival of Summer came to the city Omelas, bright-towered by the sea.', '1973')\n"
     ]
    }
   ],
   "source": [
    "def get_book_by_id(book_id):\n",
    "    # Conectar a la base de datos\n",
    "    conn = sqlite3.connect(\"book.db\")\n",
    "    c = conn.cursor()\n",
    "\n",
    "    # Obtener el libro por ID\n",
    "    c.execute('SELECT * FROM books WHERE id = ?', (book_id,))\n",
    "    book = c.fetchone()\n",
    "\n",
    "    # Cerrar conexión\n",
    "    conn.close()\n",
    "\n",
    "    return book\n",
    "\n",
    "# Probar la función\n",
    "book_id_to_find = 1  # Cambia este ID para probar con otros\n",
    "book = get_book_by_id(book_id_to_find)\n",
    "\n",
    "if book:\n",
    "    print(f\"Libro encontrado: {book}\")\n",
    "else:\n",
    "    print(f\"No se encontró ningún libro con el ID {book_id_to_find}.\")\n"
   ]
  },
  {
   "cell_type": "code",
   "execution_count": null,
   "metadata": {},
   "outputs": [],
   "source": []
  }
 ],
 "metadata": {
  "kernelspec": {
   "display_name": "EDA_ENV",
   "language": "python",
   "name": "python3"
  },
  "language_info": {
   "codemirror_mode": {
    "name": "ipython",
    "version": 3
   },
   "file_extension": ".py",
   "mimetype": "text/x-python",
   "name": "python",
   "nbconvert_exporter": "python",
   "pygments_lexer": "ipython3",
   "version": "3.10.14"
  }
 },
 "nbformat": 4,
 "nbformat_minor": 2
}
